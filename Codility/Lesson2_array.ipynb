{
 "cells": [
  {
   "cell_type": "code",
   "execution_count": null,
   "id": "8c66a81f-2b43-4cea-8704-ce4ebe1e95d2",
   "metadata": {},
   "outputs": [],
   "source": [
    "#1 cyclic rotation\n",
    "def solution(A, K):\n",
    "    # write your code in Python 3.6\n",
    "    N = len(A)\n",
    "    if N < 2 or K == 0 or N-K == 0:\n",
    "        return A\n",
    "    \n",
    "    for k in range(K):\n",
    "        ele = A.pop()\n",
    "        A.insert(0, ele)\n",
    "    return A\n"
   ]
  },
  {
   "cell_type": "code",
   "execution_count": null,
   "id": "c70d6894-5a41-4509-a512-3f4556b84136",
   "metadata": {},
   "outputs": [],
   "source": [
    "#2 odd\n",
    "from collections import Counter\n",
    "\n",
    "def solution(A):\n",
    "    # write your code in Python 3.6\n",
    "    N = len(A)\n",
    "\n",
    "    if not 1 <= N <= 1e6:\n",
    "        return \n",
    "    \n",
    "    count_list = []\n",
    "    idx_list = []\n",
    "    cnt = Counter(A)\n",
    "    \n",
    "    for idx, ele in enumerate(A):\n",
    "        if not 1 <= ele <= 1e9:\n",
    "            return \n",
    "        count_list.append(cnt[ele])\n",
    "        idx_list.append(idx)\n",
    "    \n",
    "    for i, cnt in enumerate(count_list):\n",
    "        if int(cnt) % 2 == 1:\n",
    "            return A[idx_list[i]]\n"
   ]
  }
 ],
 "metadata": {
  "kernelspec": {
   "display_name": "Python 3",
   "language": "python",
   "name": "python3"
  },
  "language_info": {
   "codemirror_mode": {
    "name": "ipython",
    "version": 3
   },
   "file_extension": ".py",
   "mimetype": "text/x-python",
   "name": "python",
   "nbconvert_exporter": "python",
   "pygments_lexer": "ipython3",
   "version": "3.8.8"
  }
 },
 "nbformat": 4,
 "nbformat_minor": 5
}
