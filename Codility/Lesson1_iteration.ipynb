{
 "cells": [
  {
   "cell_type": "code",
   "execution_count": null,
   "id": "921ad9d9-ce12-40cb-9ebf-9105e5dacdeb",
   "metadata": {},
   "outputs": [],
   "source": [
    "# you can write to stdout for debugging purposes, e.g.\n",
    "# print(\"this is a debug message\")\n",
    "\n",
    "def solution(N):\n",
    "    # write your code in Python 3.6\n",
    "    # pass\n",
    "    if not N > 0 or N > 2147483647:\n",
    "        print(\"ERR!! out of range\")\n",
    "        return \n",
    "    \n",
    "    temp = list(format(N, \"b\"))\n",
    "    start_flag = False\n",
    "\n",
    "    start_binary = temp[0]\n",
    "    len_list = []\n",
    "    tmp_len = 0\n",
    "    \n",
    "    for i, item in enumerate(temp[1:]):\n",
    "        if start_binary != item:\n",
    "            if start_flag == False:\n",
    "                start_flag = True\n",
    "                tmp_len = 0 \n",
    "            else:\n",
    "                len_list.append(tmp_len)\n",
    "                tmp_len = 0\n",
    "                start_flag = True\n",
    "\n",
    "        if start_flag:\n",
    "                tmp_len += 1\n",
    "                start_binary = item\n",
    "    if len(len_list) == 0:\n",
    "        return 0\n",
    "    else:\n",
    "        return max(len_list)\n"
   ]
  }
 ],
 "metadata": {
  "kernelspec": {
   "display_name": "Python 3",
   "language": "python",
   "name": "python3"
  },
  "language_info": {
   "codemirror_mode": {
    "name": "ipython",
    "version": 3
   },
   "file_extension": ".py",
   "mimetype": "text/x-python",
   "name": "python",
   "nbconvert_exporter": "python",
   "pygments_lexer": "ipython3",
   "version": "3.8.8"
  }
 },
 "nbformat": 4,
 "nbformat_minor": 5
}
