{
 "cells": [
  {
   "cell_type": "code",
   "execution_count": null,
   "id": "ed35736a-6c20-4955-b8c1-1ab553baf8ac",
   "metadata": {},
   "outputs": [],
   "source": [
    "#1 \n",
    "import math\n",
    "\n",
    "def solution(X, Y, D):\n",
    "    # write your code in Python 3.6\n",
    "    if not (1 <= X <= 1e9 or 1 <= Y <= 1e9):\n",
    "        return\n",
    "\n",
    "    if not X <= Y:\n",
    "        return\n",
    "\n",
    "    dist = Y - X\n",
    "    times = math.ceil(dist/D)\n",
    "    \n",
    "    return times "
   ]
  },
  {
   "cell_type": "code",
   "execution_count": null,
   "id": "5458b207-422c-4484-9077-f5a6f48c2125",
   "metadata": {},
   "outputs": [],
   "source": [
    "#2 \n",
    "def solution(A):\n",
    "    # write your code in Python 3.6\n",
    "    N = len(A)\n",
    "    sum_target = sum(range(N+2))\n",
    "    return sum_target - sum(A)\n",
    "\n",
    "# for문 다 돌면 runtime error, sum()활용하는게 정답\n",
    "# 리스트가 주어지면, 리스트 길이가 0일 때, 1일 때, 2 이상일 때 다 잘 동작하는 지 파악해야 함"
   ]
  },
  {
   "cell_type": "code",
   "execution_count": 9,
   "id": "40aba920-6b42-4d0d-bafb-b969adb07b41",
   "metadata": {},
   "outputs": [
    {
     "name": "stdout",
     "output_type": "stream",
     "text": [
      "0\n",
      "7000\n",
      "7000\n"
     ]
    },
    {
     "data": {
      "text/plain": [
       "1000"
      ]
     },
     "execution_count": 9,
     "metadata": {},
     "output_type": "execute_result"
    }
   ],
   "source": [
    "#3 틀린 풀이 -> 리스트 slice sum()하는게 O(n^2)의 시간복잡도를 가짐..\n",
    "\n",
    "def solution(A):\n",
    "    # write your code in Python 3.6\n",
    "    N = len(A)\n",
    "\n",
    "    all_sum = sum(A)\n",
    "\n",
    "    half = int(N / 2)\n",
    "    prev = sum(A[:half])\n",
    "    post = sum(A[half:])\n",
    "    initial_diff = abs(prev-post)\n",
    "    if initial_diff == 0:\n",
    "        return 0\n",
    "    \n",
    "    while True:\n",
    "        if prev > post:\n",
    "            half -= 1\n",
    "        elif prev < post:\n",
    "            half += 1\n",
    "        else:\n",
    "            return 0                    \n",
    "        prev = sum(A[:half])\n",
    "        post = sum(A[half:])\n",
    "        diff = abs(prev-post)\n",
    "        \n",
    "        print(prev)\n",
    "        print(post)\n",
    "        print(diff)\n",
    "        \n",
    "        if diff < initial_diff:\n",
    "            initial_diff = diff\n",
    "        else:\n",
    "            break\n",
    "    return initial_diff\n",
    "        \n",
    "solution([4000,2000, 1000])"
   ]
  },
  {
   "cell_type": "code",
   "execution_count": null,
   "id": "79c55db1-c0b5-40e8-a594-7b6a565878d3",
   "metadata": {},
   "outputs": [],
   "source": [
    "#3 \n",
    "def solution(A):\n",
    "    # write your code in Python 3.6\n",
    "    sum_of_part_one = 0\n",
    "    sum_of_part_two = sum(A)\n",
    "    min_difference = None\n",
    "\n",
    "    for i in range(1, len(A)):\n",
    "        sum_of_part_one += A[i-1]\n",
    "        sum_of_part_two -= A[i-1]\n",
    "        difference = abs(sum_of_part_one - sum_of_part_two)\n",
    "\n",
    "        if min_difference == None:\n",
    "            min_difference = difference\n",
    "        else:\n",
    "            min_difference = min(min_difference, difference)\n",
    "\n",
    "    return min_difference"
   ]
  },
  {
   "cell_type": "code",
   "execution_count": null,
   "id": "4a1102bb-f5b4-44ca-ae79-ede648d46912",
   "metadata": {},
   "outputs": [],
   "source": []
  }
 ],
 "metadata": {
  "kernelspec": {
   "display_name": "Python 3",
   "language": "python",
   "name": "python3"
  },
  "language_info": {
   "codemirror_mode": {
    "name": "ipython",
    "version": 3
   },
   "file_extension": ".py",
   "mimetype": "text/x-python",
   "name": "python",
   "nbconvert_exporter": "python",
   "pygments_lexer": "ipython3",
   "version": "3.8.8"
  }
 },
 "nbformat": 4,
 "nbformat_minor": 5
}
