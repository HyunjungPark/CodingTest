{
 "cells": [
  {
   "cell_type": "code",
   "execution_count": 4,
   "id": "0838d49d-9166-4aab-8e93-557f6734090d",
   "metadata": {},
   "outputs": [
    {
     "name": "stdin",
     "output_type": "stream",
     "text": [
      " 5 7 2\n",
      " 3 4 3 4 3\n"
     ]
    },
    {
     "name": "stdout",
     "output_type": "stream",
     "text": [
      "28\n"
     ]
    }
   ],
   "source": [
    "#1 problem\n",
    "\n",
    "from collections import Counter\n",
    "\n",
    "N, M, K = list(map(int, input().split()))\n",
    "num_list = list(map(int, input().split()))\n",
    "num_list.sort()\n",
    "\n",
    "if N < 2 or N > 1000 or M < 1 or M > 10000 or K < 1 or K > 10000:\n",
    "    print(\"input error\")\n",
    "\n",
    "cnt = 0\n",
    "max_sum = 0\n",
    "iteration_cnt = 0\n",
    "\n",
    "max_val = num_list[-1]\n",
    "max_cnt = Counter(num_list)[max_val]\n",
    "\n",
    "while iteration_cnt < M:\n",
    "    if max_cnt == 1:\n",
    "        for j in range(K):\n",
    "            max_sum += max_val\n",
    "            iteration_cnt += 1\n",
    "    else:\n",
    "        for m in range(max_cnt):\n",
    "            for j in range(K):\n",
    "                if iteration_cnt < M:\n",
    "                    max_sum += max_val\n",
    "                    iteration_cnt += 1\n",
    "    \n",
    "    if iteration_cnt < M:\n",
    "        max_sum += num_list[-2]\n",
    "        iteration_cnt += 1\n",
    "    \n",
    "print(max_sum)\n",
    "\n",
    "\n",
    "# 어차피 sort()해서 정렬해놨기 때문에 가장 큰 수가 여러 개일지라도 제일 큰 값과 두번째 큰 값만 쓰기 때문에 카운터를 쓸 필요가 없군."
   ]
  },
  {
   "cell_type": "code",
   "execution_count": null,
   "id": "2b1ef965-b3ab-4d34-807f-f873a7f26f55",
   "metadata": {},
   "outputs": [],
   "source": [
    "#1 solution\n",
    "n, m, k = map(int, input().split())\n",
    "data = list(map(int, input().split()))\n",
    "\n",
    "data.sort()\n",
    "first = data[n-1]\n",
    "second = data[n-2]\n",
    "\n",
    "result = 0\n",
    "\n",
    "while True:\n",
    "    for i in range(k):\n",
    "        if m == 0:\n",
    "            break\n",
    "        result += first\n",
    "        m -= 1\n",
    "    if m ==0:\n",
    "        break\n",
    "    result += second\n",
    "    m -= 1\n",
    "\n",
    "print(result)"
   ]
  },
  {
   "cell_type": "code",
   "execution_count": null,
   "id": "0dc345cd-2a24-4496-9e94-6a13edcfa0d1",
   "metadata": {},
   "outputs": [],
   "source": [
    "# improve skills\n",
    "\n",
    "# M이 10,000이하이면 위의 방식으로 풀 수 있으나, M의 크기가 엄청 커지면 시간 초과 판정을 받을 것\n",
    "# 이 문제를 풀기 위해서는 \"반복되는 수열\"을 먼저 파악해야함\n",
    "# 반복되는 수열의 길이 = K + 1 (1: second item)\n",
    "# 반복 횟수 = M // (K+1)\n",
    "# 가장 큰 수가 등장하는 횟수 = 반복 횟수 * K = (M // (K+1)) * K\n",
    "# M // (K+1)가 나누어 떨어지지 않는 경우, 남은 횟수만큼 가장 큰 수를 더 더해야함 -> M % (K+1)\n",
    "# 최종적으로, 가장 큰 수가 등장하는 횟수 = (M // (K+1)) * K + (M % (K+1))\n",
    "\n",
    "\n",
    "n, m, k = map(int, input().split())\n",
    "data = list(map(int, input().split()))\n",
    "\n",
    "data.sort()\n",
    "first = data[n-1]\n",
    "second = data[n-2]\n",
    "\n",
    "# 가장 큰 수가 더해지는 횟수 계산\n",
    "count = (M // (K+1)) * K + (M % (K+1))\n",
    "\n",
    "result = 0\n",
    "result += (count) * first #가장 큰 수 더하기\n",
    "result += (m-count) * second\n",
    "\n",
    "print(result)\n"
   ]
  },
  {
   "cell_type": "code",
   "execution_count": 3,
   "id": "c7cfa109-fadb-4f3f-ba6c-ba62d8e9699c",
   "metadata": {},
   "outputs": [
    {
     "name": "stdin",
     "output_type": "stream",
     "text": [
      " 2 4 \n",
      " 7 3 1 8\n",
      " 3 3 3 4\n"
     ]
    },
    {
     "name": "stdout",
     "output_type": "stream",
     "text": [
      "3\n"
     ]
    }
   ],
   "source": [
    "#2 problem\n",
    "\n",
    "n, m = map(int, input().split())\n",
    "num_list = []\n",
    "for _ in range(n):\n",
    "    tmp = list(map(int, input().split())) \n",
    "    num_list.append(tmp)\n",
    "\n",
    "min_value = 0\n",
    "for data in num_list:\n",
    "    min_val = min(data)\n",
    "    if min_val > min_value:\n",
    "        min_value = min_val\n",
    "\n",
    "print(min_value)\n"
   ]
  },
  {
   "cell_type": "code",
   "execution_count": 17,
   "id": "d0b0b72f-1739-4c4c-a11a-94f1a1e1235d",
   "metadata": {},
   "outputs": [
    {
     "name": "stdin",
     "output_type": "stream",
     "text": [
      " 25 3\n"
     ]
    },
    {
     "name": "stdout",
     "output_type": "stream",
     "text": [
      "6\n"
     ]
    }
   ],
   "source": [
    "#3\n",
    "\n",
    "n, k = map(int, input().split())\n",
    "iteration = 0\n",
    "\n",
    "while n != 1:\n",
    "    if n % k == 0:\n",
    "        n /= k\n",
    "        iteration += 1\n",
    "    else:\n",
    "        n -= 1\n",
    "        iteration += 1\n",
    "        \n",
    "print(iteration)"
   ]
  },
  {
   "cell_type": "markdown",
   "id": "ad192da2-7abb-4a20-99be-0048537aef0b",
   "metadata": {},
   "source": [
    "import heapq\n",
    "\n",
    "def heapsort(iterable):\n",
    "    h = []\n",
    "result = []\n",
    "\n",
    "\tfor value in iterable:\n",
    "\t\theapq.heappush(h, value)\n",
    "\n",
    "\tfor i in range(len(h)):\n",
    "\t\tresult.apend(heapq.heappop(h))\n",
    "\n",
    "\treturn result\n",
    "\n",
    "result = heapsort([1, 3, 5, 7, 9, 2, 4, 6, 8, 0])\n",
    "# [0, 1, 2, 3, 4, 5, 6, 7, 8, 9]"
   ]
  },
  {
   "cell_type": "code",
   "execution_count": 24,
   "id": "d4f9d366-fa07-4295-b9fe-ddf97c65bcde",
   "metadata": {},
   "outputs": [
    {
     "name": "stdout",
     "output_type": "stream",
     "text": [
      "[0, 1, 2, 6, 3, 5, 4, 7, 8, 9]\n",
      "0\n",
      "1\n",
      "2\n",
      "3\n",
      "4\n",
      "5\n",
      "6\n",
      "7\n",
      "8\n",
      "9\n",
      "[]\n",
      "[0, 1, 2, 3, 4, 5, 6, 7, 8, 9]\n"
     ]
    }
   ],
   "source": [
    "import heapq\n",
    "\n",
    "def heapsort(data):\n",
    "    h = []\n",
    "    result = []\n",
    "    \n",
    "    for value in data:\n",
    "        heapq.heappush(h, value)\n",
    "    print(h)\n",
    "    \n",
    "    for i in range(len(h)):\n",
    "        item = heapq.heappop(h)\n",
    "        result.append(item)\n",
    "        print(item)\n",
    "    print(h)\n",
    "    return result\n",
    "    \n",
    "result = heapsort([1, 3, 5, 7, 9, 2, 4, 6, 8, 0])\n",
    "print(result)\n"
   ]
  },
  {
   "cell_type": "code",
   "execution_count": null,
   "id": "cb22f0e6-107d-444f-9731-558f848e9b2d",
   "metadata": {},
   "outputs": [],
   "source": []
  }
 ],
 "metadata": {
  "kernelspec": {
   "display_name": "Python 3",
   "language": "python",
   "name": "python3"
  },
  "language_info": {
   "codemirror_mode": {
    "name": "ipython",
    "version": 3
   },
   "file_extension": ".py",
   "mimetype": "text/x-python",
   "name": "python",
   "nbconvert_exporter": "python",
   "pygments_lexer": "ipython3",
   "version": "3.8.8"
  }
 },
 "nbformat": 4,
 "nbformat_minor": 5
}
